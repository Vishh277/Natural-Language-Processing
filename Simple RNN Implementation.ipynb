{
 "cells": [
  {
   "cell_type": "code",
   "execution_count": 1,
   "id": "183cd770",
   "metadata": {
    "execution": {
     "iopub.execute_input": "2023-07-24T16:11:29.416277Z",
     "iopub.status.busy": "2023-07-24T16:11:29.415883Z",
     "iopub.status.idle": "2023-07-24T16:11:39.780741Z",
     "shell.execute_reply": "2023-07-24T16:11:39.779047Z"
    },
    "papermill": {
     "duration": 10.372228,
     "end_time": "2023-07-24T16:11:39.783768",
     "exception": false,
     "start_time": "2023-07-24T16:11:29.411540",
     "status": "completed"
    },
    "tags": []
   },
   "outputs": [
    {
     "name": "stderr",
     "output_type": "stream",
     "text": [
      "/opt/conda/lib/python3.10/site-packages/scipy/__init__.py:146: UserWarning: A NumPy version >=1.16.5 and <1.23.0 is required for this version of SciPy (detected version 1.23.5\n",
      "  warnings.warn(f\"A NumPy version >={np_minversion} and <{np_maxversion}\"\n",
      "/opt/conda/lib/python3.10/site-packages/tensorflow_io/python/ops/__init__.py:98: UserWarning: unable to load libtensorflow_io_plugins.so: unable to open file: libtensorflow_io_plugins.so, from paths: ['/opt/conda/lib/python3.10/site-packages/tensorflow_io/python/ops/libtensorflow_io_plugins.so']\n",
      "caused by: ['/opt/conda/lib/python3.10/site-packages/tensorflow_io/python/ops/libtensorflow_io_plugins.so: undefined symbol: _ZN3tsl6StatusC1EN10tensorflow5error4CodeESt17basic_string_viewIcSt11char_traitsIcEENS_14SourceLocationE']\n",
      "  warnings.warn(f\"unable to load libtensorflow_io_plugins.so: {e}\")\n",
      "/opt/conda/lib/python3.10/site-packages/tensorflow_io/python/ops/__init__.py:104: UserWarning: file system plugins are not loaded: unable to open file: libtensorflow_io.so, from paths: ['/opt/conda/lib/python3.10/site-packages/tensorflow_io/python/ops/libtensorflow_io.so']\n",
      "caused by: ['/opt/conda/lib/python3.10/site-packages/tensorflow_io/python/ops/libtensorflow_io.so: undefined symbol: _ZTVN10tensorflow13GcsFileSystemE']\n",
      "  warnings.warn(f\"file system plugins are not loaded: {e}\")\n"
     ]
    }
   ],
   "source": [
    "from pandas import read_csv\n",
    "import numpy as np\n",
    "from keras.models import Sequential\n",
    "from keras.layers import Dense, SimpleRNN\n",
    "from sklearn.preprocessing import MinMaxScaler\n",
    "from sklearn.metrics import mean_squared_error\n",
    "import math\n",
    "import matplotlib.pyplot as plt"
   ]
  },
  {
   "cell_type": "code",
   "execution_count": 2,
   "id": "67966ed5",
   "metadata": {
    "execution": {
     "iopub.execute_input": "2023-07-24T16:11:39.791887Z",
     "iopub.status.busy": "2023-07-24T16:11:39.791105Z",
     "iopub.status.idle": "2023-07-24T16:11:40.309406Z",
     "shell.execute_reply": "2023-07-24T16:11:40.308157Z"
    },
    "papermill": {
     "duration": 0.524933,
     "end_time": "2023-07-24T16:11:40.311899",
     "exception": false,
     "start_time": "2023-07-24T16:11:39.786966",
     "status": "completed"
    },
    "tags": []
   },
   "outputs": [],
   "source": [
    "def create_RNN(hidden_units, dense_units, input_shape, activation):\n",
    "    model = Sequential()\n",
    "    model.add(SimpleRNN(hidden_units, input_shape=input_shape, \n",
    "                        activation=activation[0]))\n",
    "    model.add(Dense(units=dense_units, activation=activation[1]))\n",
    "    model.compile(loss='mean_squared_error', optimizer='adam')\n",
    "    return model\n",
    " \n",
    "demo_model = create_RNN(2, 1, (3,1), activation=['linear', 'linear'])"
   ]
  },
  {
   "cell_type": "code",
   "execution_count": 3,
   "id": "1e232662",
   "metadata": {
    "execution": {
     "iopub.execute_input": "2023-07-24T16:11:40.318920Z",
     "iopub.status.busy": "2023-07-24T16:11:40.318559Z",
     "iopub.status.idle": "2023-07-24T16:11:40.338228Z",
     "shell.execute_reply": "2023-07-24T16:11:40.336914Z"
    },
    "papermill": {
     "duration": 0.026325,
     "end_time": "2023-07-24T16:11:40.340985",
     "exception": false,
     "start_time": "2023-07-24T16:11:40.314660",
     "status": "completed"
    },
    "tags": []
   },
   "outputs": [
    {
     "name": "stdout",
     "output_type": "stream",
     "text": [
      "wx =  [[-0.7582471   0.84121096]]  wh =  [[ 0.01967335 -0.9998064 ]\n",
      " [-0.9998064  -0.01967347]]  bh =  [0. 0.]  wy = [[ 0.19534087]\n",
      " [-0.66375417]] by =  [0.]\n"
     ]
    }
   ],
   "source": [
    "wx = demo_model.get_weights()[0] # Weights at previous\n",
    "wh = demo_model.get_weights()[1] # Weights at current\n",
    "bh = demo_model.get_weights()[2] # Bias at current\n",
    "wy = demo_model.get_weights()[3] # Weights at next\n",
    "by = demo_model.get_weights()[4] # Bias at next\n",
    " \n",
    "print('wx = ', wx, ' wh = ', wh, ' bh = ', bh, ' wy =', wy, 'by = ', by)"
   ]
  },
  {
   "cell_type": "code",
   "execution_count": 4,
   "id": "911fd51f",
   "metadata": {
    "execution": {
     "iopub.execute_input": "2023-07-24T16:11:40.348921Z",
     "iopub.status.busy": "2023-07-24T16:11:40.347805Z",
     "iopub.status.idle": "2023-07-24T16:11:40.698758Z",
     "shell.execute_reply": "2023-07-24T16:11:40.698048Z"
    },
    "papermill": {
     "duration": 0.35681,
     "end_time": "2023-07-24T16:11:40.700728",
     "exception": false,
     "start_time": "2023-07-24T16:11:40.343918",
     "status": "completed"
    },
    "tags": []
   },
   "outputs": [
    {
     "name": "stdout",
     "output_type": "stream",
     "text": [
      "1/1 [==============================] - 0s 260ms/step\n"
     ]
    }
   ],
   "source": [
    "# Fit on Datapoints\n",
    "x = np.array([1, 2, 3])\n",
    "\n",
    "# Reshape the input to the required sample_size x time_steps x features \n",
    "x_input = np.reshape(x,(1, 3, 1))\n",
    "y_pred_model = demo_model.predict(x_input) "
   ]
  },
  {
   "cell_type": "code",
   "execution_count": 5,
   "id": "862d4e63",
   "metadata": {
    "execution": {
     "iopub.execute_input": "2023-07-24T16:11:40.708759Z",
     "iopub.status.busy": "2023-07-24T16:11:40.707266Z",
     "iopub.status.idle": "2023-07-24T16:11:40.714069Z",
     "shell.execute_reply": "2023-07-24T16:11:40.712983Z"
    },
    "papermill": {
     "duration": 0.012776,
     "end_time": "2023-07-24T16:11:40.716404",
     "exception": false,
     "start_time": "2023-07-24T16:11:40.703628",
     "status": "completed"
    },
    "tags": []
   },
   "outputs": [],
   "source": [
    "m = 2\n",
    "h0 = np.zeros(m)\n",
    "h1 = np.dot(x[0], wx) + h0 + bh\n",
    "h2 = np.dot(x[1], wx) + np.dot(h1,wh) + bh\n",
    "h3 = np.dot(x[2], wx) + np.dot(h2,wh) + bh\n",
    "o3 = np.dot(h3, wy) + by "
   ]
  },
  {
   "cell_type": "code",
   "execution_count": 6,
   "id": "15516258",
   "metadata": {
    "execution": {
     "iopub.execute_input": "2023-07-24T16:11:40.723998Z",
     "iopub.status.busy": "2023-07-24T16:11:40.723463Z",
     "iopub.status.idle": "2023-07-24T16:11:40.729918Z",
     "shell.execute_reply": "2023-07-24T16:11:40.728100Z"
    },
    "papermill": {
     "duration": 0.013142,
     "end_time": "2023-07-24T16:11:40.732469",
     "exception": false,
     "start_time": "2023-07-24T16:11:40.719327",
     "status": "completed"
    },
    "tags": []
   },
   "outputs": [
    {
     "name": "stdout",
     "output_type": "stream",
     "text": [
      "h1 =  [[-0.75824708  0.84121096]] h2 =  [[-2.37245952  2.42397267]] h3 =  [[-4.74491885  4.84794516]]\n"
     ]
    }
   ],
   "source": [
    "print('h1 = ', h1,'h2 = ', h2,'h3 = ', h3)"
   ]
  },
  {
   "cell_type": "code",
   "execution_count": 7,
   "id": "d431a802",
   "metadata": {
    "execution": {
     "iopub.execute_input": "2023-07-24T16:11:40.740175Z",
     "iopub.status.busy": "2023-07-24T16:11:40.739773Z",
     "iopub.status.idle": "2023-07-24T16:11:40.745838Z",
     "shell.execute_reply": "2023-07-24T16:11:40.744451Z"
    },
    "papermill": {
     "duration": 0.012085,
     "end_time": "2023-07-24T16:11:40.747558",
     "exception": false,
     "start_time": "2023-07-24T16:11:40.735473",
     "status": "completed"
    },
    "tags": []
   },
   "outputs": [
    {
     "name": "stdout",
     "output_type": "stream",
     "text": [
      "Prediction from network  [[-4.1447206]]\n"
     ]
    }
   ],
   "source": [
    "print(\"Prediction from network \", y_pred_model)"
   ]
  },
  {
   "cell_type": "code",
   "execution_count": 8,
   "id": "609e49c5",
   "metadata": {
    "execution": {
     "iopub.execute_input": "2023-07-24T16:11:40.755168Z",
     "iopub.status.busy": "2023-07-24T16:11:40.754517Z",
     "iopub.status.idle": "2023-07-24T16:11:40.759876Z",
     "shell.execute_reply": "2023-07-24T16:11:40.758737Z"
    },
    "papermill": {
     "duration": 0.011615,
     "end_time": "2023-07-24T16:11:40.762103",
     "exception": false,
     "start_time": "2023-07-24T16:11:40.750488",
     "status": "completed"
    },
    "tags": []
   },
   "outputs": [
    {
     "name": "stdout",
     "output_type": "stream",
     "text": [
      "Prediction from our computation  [[-4.14472038]]\n"
     ]
    }
   ],
   "source": [
    "print(\"Prediction from our computation \", o3)"
   ]
  }
 ],
 "metadata": {
  "kernelspec": {
   "display_name": "Python 3",
   "language": "python",
   "name": "python3"
  },
  "language_info": {
   "codemirror_mode": {
    "name": "ipython",
    "version": 3
   },
   "file_extension": ".py",
   "mimetype": "text/x-python",
   "name": "python",
   "nbconvert_exporter": "python",
   "pygments_lexer": "ipython3",
   "version": "3.10.12"
  },
  "papermill": {
   "default_parameters": {},
   "duration": 22.398548,
   "end_time": "2023-07-24T16:11:43.196524",
   "environment_variables": {},
   "exception": null,
   "input_path": "__notebook__.ipynb",
   "output_path": "__notebook__.ipynb",
   "parameters": {},
   "start_time": "2023-07-24T16:11:20.797976",
   "version": "2.4.0"
  }
 },
 "nbformat": 4,
 "nbformat_minor": 5
}
