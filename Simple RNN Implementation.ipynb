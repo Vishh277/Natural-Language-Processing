{
 "cells": [
  {
   "cell_type": "code",
   "execution_count": 1,
   "id": "aa9bdb0d",
   "metadata": {
    "execution": {
     "iopub.execute_input": "2023-07-25T08:01:27.540471Z",
     "iopub.status.busy": "2023-07-25T08:01:27.539936Z",
     "iopub.status.idle": "2023-07-25T08:01:37.810763Z",
     "shell.execute_reply": "2023-07-25T08:01:37.809759Z"
    },
    "papermill": {
     "duration": 10.283983,
     "end_time": "2023-07-25T08:01:37.813648",
     "exception": false,
     "start_time": "2023-07-25T08:01:27.529665",
     "status": "completed"
    },
    "tags": []
   },
   "outputs": [
    {
     "name": "stderr",
     "output_type": "stream",
     "text": [
      "/opt/conda/lib/python3.10/site-packages/scipy/__init__.py:146: UserWarning: A NumPy version >=1.16.5 and <1.23.0 is required for this version of SciPy (detected version 1.23.5\n",
      "  warnings.warn(f\"A NumPy version >={np_minversion} and <{np_maxversion}\"\n",
      "/opt/conda/lib/python3.10/site-packages/tensorflow_io/python/ops/__init__.py:98: UserWarning: unable to load libtensorflow_io_plugins.so: unable to open file: libtensorflow_io_plugins.so, from paths: ['/opt/conda/lib/python3.10/site-packages/tensorflow_io/python/ops/libtensorflow_io_plugins.so']\n",
      "caused by: ['/opt/conda/lib/python3.10/site-packages/tensorflow_io/python/ops/libtensorflow_io_plugins.so: undefined symbol: _ZN3tsl6StatusC1EN10tensorflow5error4CodeESt17basic_string_viewIcSt11char_traitsIcEENS_14SourceLocationE']\n",
      "  warnings.warn(f\"unable to load libtensorflow_io_plugins.so: {e}\")\n",
      "/opt/conda/lib/python3.10/site-packages/tensorflow_io/python/ops/__init__.py:104: UserWarning: file system plugins are not loaded: unable to open file: libtensorflow_io.so, from paths: ['/opt/conda/lib/python3.10/site-packages/tensorflow_io/python/ops/libtensorflow_io.so']\n",
      "caused by: ['/opt/conda/lib/python3.10/site-packages/tensorflow_io/python/ops/libtensorflow_io.so: undefined symbol: _ZTVN10tensorflow13GcsFileSystemE']\n",
      "  warnings.warn(f\"file system plugins are not loaded: {e}\")\n"
     ]
    }
   ],
   "source": [
    "from pandas import read_csv\n",
    "import numpy as np\n",
    "from keras.models import Sequential\n",
    "from keras.layers import Dense, SimpleRNN\n",
    "from sklearn.preprocessing import MinMaxScaler\n",
    "from sklearn.metrics import mean_squared_error\n",
    "import math\n",
    "import matplotlib.pyplot as plt"
   ]
  },
  {
   "cell_type": "code",
   "execution_count": 2,
   "id": "45d9cb13",
   "metadata": {
    "execution": {
     "iopub.execute_input": "2023-07-25T08:01:37.832646Z",
     "iopub.status.busy": "2023-07-25T08:01:37.831681Z",
     "iopub.status.idle": "2023-07-25T08:01:38.514927Z",
     "shell.execute_reply": "2023-07-25T08:01:38.513771Z"
    },
    "papermill": {
     "duration": 0.695738,
     "end_time": "2023-07-25T08:01:38.518044",
     "exception": false,
     "start_time": "2023-07-25T08:01:37.822306",
     "status": "completed"
    },
    "tags": []
   },
   "outputs": [],
   "source": [
    "def create_RNN(hidden_units, dense_units, input_shape, activation):\n",
    "    model = Sequential()\n",
    "    model.add(SimpleRNN(hidden_units, input_shape=input_shape, \n",
    "                        activation=activation[0]))\n",
    "    model.add(Dense(units=dense_units, activation=activation[1]))\n",
    "    model.compile(loss='mean_squared_error', optimizer='adam')\n",
    "    return model\n",
    " \n",
    "demo_model = create_RNN(2, 1, (3,1), activation=['linear', 'linear'])"
   ]
  },
  {
   "cell_type": "code",
   "execution_count": 3,
   "id": "548a6a08",
   "metadata": {
    "execution": {
     "iopub.execute_input": "2023-07-25T08:01:38.535542Z",
     "iopub.status.busy": "2023-07-25T08:01:38.535059Z",
     "iopub.status.idle": "2023-07-25T08:01:38.559561Z",
     "shell.execute_reply": "2023-07-25T08:01:38.557651Z"
    },
    "papermill": {
     "duration": 0.036473,
     "end_time": "2023-07-25T08:01:38.562327",
     "exception": false,
     "start_time": "2023-07-25T08:01:38.525854",
     "status": "completed"
    },
    "tags": []
   },
   "outputs": [
    {
     "name": "stdout",
     "output_type": "stream",
     "text": [
      "wx =  [[1.1716241  0.33752036]]  wh =  [[-0.29047847  0.9568816 ]\n",
      " [-0.9568816  -0.2904784 ]]  bh =  [0. 0.]  wy = [[ 0.09018111]\n",
      " [-1.0202693 ]] by =  [0.]\n"
     ]
    }
   ],
   "source": [
    "wx = demo_model.get_weights()[0] # Weights at previous\n",
    "wh = demo_model.get_weights()[1] # Weights at current\n",
    "bh = demo_model.get_weights()[2] # Bias at current\n",
    "wy = demo_model.get_weights()[3] # Weights at next\n",
    "by = demo_model.get_weights()[4] # Bias at next\n",
    " \n",
    "print('wx = ', wx, ' wh = ', wh, ' bh = ', bh, ' wy =', wy, 'by = ', by)"
   ]
  },
  {
   "cell_type": "code",
   "execution_count": 4,
   "id": "8cff86da",
   "metadata": {
    "execution": {
     "iopub.execute_input": "2023-07-25T08:01:38.579988Z",
     "iopub.status.busy": "2023-07-25T08:01:38.579559Z",
     "iopub.status.idle": "2023-07-25T08:01:38.997264Z",
     "shell.execute_reply": "2023-07-25T08:01:38.996313Z"
    },
    "papermill": {
     "duration": 0.429873,
     "end_time": "2023-07-25T08:01:39.000125",
     "exception": false,
     "start_time": "2023-07-25T08:01:38.570252",
     "status": "completed"
    },
    "tags": []
   },
   "outputs": [
    {
     "name": "stdout",
     "output_type": "stream",
     "text": [
      "1/1 [==============================] - 0s 312ms/step\n"
     ]
    }
   ],
   "source": [
    "# Fit on Datapoints\n",
    "x = np.array([1, 2, 3])\n",
    "\n",
    "# Reshape the input to the required sample_size x time_steps x features \n",
    "x_input = np.reshape(x,(1, 3, 1))\n",
    "y_pred_model = demo_model.predict(x_input) "
   ]
  },
  {
   "cell_type": "code",
   "execution_count": 5,
   "id": "e4f9f3e5",
   "metadata": {
    "execution": {
     "iopub.execute_input": "2023-07-25T08:01:39.022129Z",
     "iopub.status.busy": "2023-07-25T08:01:39.020864Z",
     "iopub.status.idle": "2023-07-25T08:01:39.029553Z",
     "shell.execute_reply": "2023-07-25T08:01:39.028318Z"
    },
    "papermill": {
     "duration": 0.023983,
     "end_time": "2023-07-25T08:01:39.032807",
     "exception": false,
     "start_time": "2023-07-25T08:01:39.008824",
     "status": "completed"
    },
    "tags": []
   },
   "outputs": [],
   "source": [
    "m = 2\n",
    "h0 = np.zeros(m)\n",
    "h1 = np.dot(x[0], wx) + h0 + bh\n",
    "h2 = np.dot(x[1], wx) + np.dot(h1,wh) + bh\n",
    "h3 = np.dot(x[2], wx) + np.dot(h2,wh) + bh\n",
    "o3 = np.dot(h3, wy) + by "
   ]
  },
  {
   "cell_type": "code",
   "execution_count": 6,
   "id": "343037b6",
   "metadata": {
    "execution": {
     "iopub.execute_input": "2023-07-25T08:01:39.050984Z",
     "iopub.status.busy": "2023-07-25T08:01:39.050555Z",
     "iopub.status.idle": "2023-07-25T08:01:39.058377Z",
     "shell.execute_reply": "2023-07-25T08:01:39.056705Z"
    },
    "papermill": {
     "duration": 0.020093,
     "end_time": "2023-07-25T08:01:39.060984",
     "exception": false,
     "start_time": "2023-07-25T08:01:39.040891",
     "status": "completed"
    },
    "tags": []
   },
   "outputs": [
    {
     "name": "stdout",
     "output_type": "stream",
     "text": [
      "h1 =  [[1.17162406 0.33752036]] h2 =  [[1.67994955 1.69810383]] h3 =  [[1.40199874 2.12681137]]\n"
     ]
    }
   ],
   "source": [
    "print('h1 = ', h1,'h2 = ', h2,'h3 = ', h3)"
   ]
  },
  {
   "cell_type": "code",
   "execution_count": 7,
   "id": "3579355a",
   "metadata": {
    "execution": {
     "iopub.execute_input": "2023-07-25T08:01:39.079163Z",
     "iopub.status.busy": "2023-07-25T08:01:39.078165Z",
     "iopub.status.idle": "2023-07-25T08:01:39.085794Z",
     "shell.execute_reply": "2023-07-25T08:01:39.084487Z"
    },
    "papermill": {
     "duration": 0.019233,
     "end_time": "2023-07-25T08:01:39.088149",
     "exception": false,
     "start_time": "2023-07-25T08:01:39.068916",
     "status": "completed"
    },
    "tags": []
   },
   "outputs": [
    {
     "name": "stdout",
     "output_type": "stream",
     "text": [
      "Prediction from network  [[-2.0434864]]\n"
     ]
    }
   ],
   "source": [
    "print(\"Prediction from network \", y_pred_model)"
   ]
  },
  {
   "cell_type": "code",
   "execution_count": 8,
   "id": "a687c5e2",
   "metadata": {
    "execution": {
     "iopub.execute_input": "2023-07-25T08:01:39.108412Z",
     "iopub.status.busy": "2023-07-25T08:01:39.107206Z",
     "iopub.status.idle": "2023-07-25T08:01:39.114039Z",
     "shell.execute_reply": "2023-07-25T08:01:39.112571Z"
    },
    "papermill": {
     "duration": 0.020653,
     "end_time": "2023-07-25T08:01:39.116734",
     "exception": false,
     "start_time": "2023-07-25T08:01:39.096081",
     "status": "completed"
    },
    "tags": []
   },
   "outputs": [
    {
     "name": "stdout",
     "output_type": "stream",
     "text": [
      "Prediction from our computation  [[-2.04348649]]\n"
     ]
    }
   ],
   "source": [
    "print(\"Prediction from our computation \", o3)"
   ]
  },
  {
   "cell_type": "code",
   "execution_count": 9,
   "id": "49af8078",
   "metadata": {
    "execution": {
     "iopub.execute_input": "2023-07-25T08:01:39.134881Z",
     "iopub.status.busy": "2023-07-25T08:01:39.134495Z",
     "iopub.status.idle": "2023-07-25T08:01:39.139640Z",
     "shell.execute_reply": "2023-07-25T08:01:39.138602Z"
    },
    "papermill": {
     "duration": 0.017015,
     "end_time": "2023-07-25T08:01:39.141877",
     "exception": false,
     "start_time": "2023-07-25T08:01:39.124862",
     "status": "completed"
    },
    "tags": []
   },
   "outputs": [],
   "source": [
    "from keras.models import Sequential\n",
    "from keras.layers import SimpleRNN, Embedding"
   ]
  },
  {
   "cell_type": "code",
   "execution_count": 10,
   "id": "50ecb61d",
   "metadata": {
    "execution": {
     "iopub.execute_input": "2023-07-25T08:01:39.161411Z",
     "iopub.status.busy": "2023-07-25T08:01:39.160203Z",
     "iopub.status.idle": "2023-07-25T08:01:39.283853Z",
     "shell.execute_reply": "2023-07-25T08:01:39.282616Z"
    },
    "papermill": {
     "duration": 0.137882,
     "end_time": "2023-07-25T08:01:39.288273",
     "exception": false,
     "start_time": "2023-07-25T08:01:39.150391",
     "status": "completed"
    },
    "tags": []
   },
   "outputs": [
    {
     "name": "stdout",
     "output_type": "stream",
     "text": [
      "Model: \"sequential_1\"\n",
      "_________________________________________________________________\n",
      " Layer (type)                Output Shape              Param #   \n",
      "=================================================================\n",
      " embedding (Embedding)       (None, None, 32)          320000    \n",
      "                                                                 \n",
      " simple_rnn_1 (SimpleRNN)    (None, 32)                2080      \n",
      "                                                                 \n",
      "=================================================================\n",
      "Total params: 322,080\n",
      "Trainable params: 322,080\n",
      "Non-trainable params: 0\n",
      "_________________________________________________________________\n"
     ]
    }
   ],
   "source": [
    "model = Sequential()\n",
    "model.add(Embedding(10000,32))  # Legth 10000, 32 dim - One Hot Encoding\n",
    "model.add(SimpleRNN(32)) \n",
    "model.summary()"
   ]
  },
  {
   "cell_type": "code",
   "execution_count": 11,
   "id": "1f34ed9b",
   "metadata": {
    "execution": {
     "iopub.execute_input": "2023-07-25T08:01:39.309146Z",
     "iopub.status.busy": "2023-07-25T08:01:39.308709Z",
     "iopub.status.idle": "2023-07-25T08:01:39.419515Z",
     "shell.execute_reply": "2023-07-25T08:01:39.417777Z"
    },
    "papermill": {
     "duration": 0.129523,
     "end_time": "2023-07-25T08:01:39.427055",
     "exception": false,
     "start_time": "2023-07-25T08:01:39.297532",
     "status": "completed"
    },
    "tags": []
   },
   "outputs": [
    {
     "name": "stdout",
     "output_type": "stream",
     "text": [
      "Model: \"sequential_2\"\n",
      "_________________________________________________________________\n",
      " Layer (type)                Output Shape              Param #   \n",
      "=================================================================\n",
      " embedding_1 (Embedding)     (None, None, 32)          320000    \n",
      "                                                                 \n",
      " simple_rnn_2 (SimpleRNN)    (None, None, 32)          2080      \n",
      "                                                                 \n",
      "=================================================================\n",
      "Total params: 322,080\n",
      "Trainable params: 322,080\n",
      "Non-trainable params: 0\n",
      "_________________________________________________________________\n"
     ]
    }
   ],
   "source": [
    "model = Sequential()\n",
    "model.add(Embedding(10000,32))  # Legth 10000, 32 dim - One Hot Encoding\n",
    "model.add(SimpleRNN(32 ,return_sequences=True)) \n",
    "model.summary()"
   ]
  },
  {
   "cell_type": "code",
   "execution_count": 12,
   "id": "435657fe",
   "metadata": {
    "execution": {
     "iopub.execute_input": "2023-07-25T08:01:39.449947Z",
     "iopub.status.busy": "2023-07-25T08:01:39.449518Z",
     "iopub.status.idle": "2023-07-25T08:01:39.778199Z",
     "shell.execute_reply": "2023-07-25T08:01:39.776650Z"
    },
    "papermill": {
     "duration": 0.343196,
     "end_time": "2023-07-25T08:01:39.780692",
     "exception": false,
     "start_time": "2023-07-25T08:01:39.437496",
     "status": "completed"
    },
    "tags": []
   },
   "outputs": [
    {
     "name": "stdout",
     "output_type": "stream",
     "text": [
      "Model: \"sequential_3\"\n",
      "_________________________________________________________________\n",
      " Layer (type)                Output Shape              Param #   \n",
      "=================================================================\n",
      " embedding_2 (Embedding)     (None, None, 32)          320000    \n",
      "                                                                 \n",
      " simple_rnn_3 (SimpleRNN)    (None, None, 32)          2080      \n",
      "                                                                 \n",
      " simple_rnn_4 (SimpleRNN)    (None, None, 32)          2080      \n",
      "                                                                 \n",
      " simple_rnn_5 (SimpleRNN)    (None, None, 32)          2080      \n",
      "                                                                 \n",
      " simple_rnn_6 (SimpleRNN)    (None, 32)                2080      \n",
      "                                                                 \n",
      "=================================================================\n",
      "Total params: 328,320\n",
      "Trainable params: 328,320\n",
      "Non-trainable params: 0\n",
      "_________________________________________________________________\n"
     ]
    }
   ],
   "source": [
    "model = Sequential()\n",
    "model.add(Embedding(10000,32))  # Legth 10000, 32 dim - One Hot Encoding\n",
    "model.add(SimpleRNN(32 ,return_sequences=True)) \n",
    "model.add(SimpleRNN(32 ,return_sequences=True)) \n",
    "model.add(SimpleRNN(32 ,return_sequences=True)) \n",
    "model.add(SimpleRNN(32)) \n",
    "model.summary()"
   ]
  },
  {
   "cell_type": "markdown",
   "id": "107018ec",
   "metadata": {
    "papermill": {
     "duration": 0.011841,
     "end_time": "2023-07-25T08:01:39.804846",
     "exception": false,
     "start_time": "2023-07-25T08:01:39.793005",
     "status": "completed"
    },
    "tags": []
   },
   "source": [
    "### Review Classification using RNN"
   ]
  },
  {
   "cell_type": "code",
   "execution_count": 13,
   "id": "b107161c",
   "metadata": {
    "execution": {
     "iopub.execute_input": "2023-07-25T08:01:39.831044Z",
     "iopub.status.busy": "2023-07-25T08:01:39.830653Z",
     "iopub.status.idle": "2023-07-25T08:01:40.256292Z",
     "shell.execute_reply": "2023-07-25T08:01:40.254754Z"
    },
    "papermill": {
     "duration": 0.442175,
     "end_time": "2023-07-25T08:01:40.259211",
     "exception": false,
     "start_time": "2023-07-25T08:01:39.817036",
     "status": "completed"
    },
    "tags": []
   },
   "outputs": [],
   "source": [
    "from keras.datasets import imdb\n",
    "from tensorflow.keras.preprocessing import sequence"
   ]
  },
  {
   "cell_type": "code",
   "execution_count": 14,
   "id": "5a1760b9",
   "metadata": {
    "execution": {
     "iopub.execute_input": "2023-07-25T08:01:40.286395Z",
     "iopub.status.busy": "2023-07-25T08:01:40.285881Z",
     "iopub.status.idle": "2023-07-25T08:01:47.294659Z",
     "shell.execute_reply": "2023-07-25T08:01:47.293470Z"
    },
    "papermill": {
     "duration": 7.025424,
     "end_time": "2023-07-25T08:01:47.297627",
     "exception": false,
     "start_time": "2023-07-25T08:01:40.272203",
     "status": "completed"
    },
    "tags": []
   },
   "outputs": [
    {
     "name": "stdout",
     "output_type": "stream",
     "text": [
      "Loading Data....\n",
      "Downloading data from https://storage.googleapis.com/tensorflow/tf-keras-datasets/imdb.npz\n",
      "17464789/17464789 [==============================] - 0s 0us/step\n",
      "25000 train sequences\n",
      "25000 test sequences\n"
     ]
    }
   ],
   "source": [
    "print('Loading Data....')\n",
    "(input_train,y_train),(input_test,y_test) = imdb.load_data(num_words=10000)\n",
    "print(len(input_train),'train sequences')\n",
    "print(len(input_test),'test sequences')\n",
    "\n"
   ]
  },
  {
   "cell_type": "code",
   "execution_count": 15,
   "id": "3ec167c2",
   "metadata": {
    "execution": {
     "iopub.execute_input": "2023-07-25T08:01:47.330984Z",
     "iopub.status.busy": "2023-07-25T08:01:47.330558Z",
     "iopub.status.idle": "2023-07-25T08:01:48.872635Z",
     "shell.execute_reply": "2023-07-25T08:01:48.871040Z"
    },
    "papermill": {
     "duration": 1.56026,
     "end_time": "2023-07-25T08:01:48.875247",
     "exception": false,
     "start_time": "2023-07-25T08:01:47.314987",
     "status": "completed"
    },
    "tags": []
   },
   "outputs": [
    {
     "name": "stdout",
     "output_type": "stream",
     "text": [
      "Pad Sequences (Samples x Time)\n",
      "Input Train Shape (25000, 500)\n",
      "Input Test Shape (25000, 500)\n"
     ]
    }
   ],
   "source": [
    "print('Pad Sequences (Samples x Time)')\n",
    "input_train = sequence.pad_sequences(input_train,maxlen=500)\n",
    "input_test = sequence.pad_sequences(input_test,maxlen=500)\n",
    "print('Input Train Shape',input_train.shape)\n",
    "print('Input Test Shape',input_test.shape)"
   ]
  },
  {
   "cell_type": "code",
   "execution_count": 16,
   "id": "6b3941b6",
   "metadata": {
    "execution": {
     "iopub.execute_input": "2023-07-25T08:01:48.903220Z",
     "iopub.status.busy": "2023-07-25T08:01:48.902744Z",
     "iopub.status.idle": "2023-07-25T08:06:47.638200Z",
     "shell.execute_reply": "2023-07-25T08:06:47.636958Z"
    },
    "papermill": {
     "duration": 298.753175,
     "end_time": "2023-07-25T08:06:47.641251",
     "exception": false,
     "start_time": "2023-07-25T08:01:48.888076",
     "status": "completed"
    },
    "tags": []
   },
   "outputs": [
    {
     "name": "stdout",
     "output_type": "stream",
     "text": [
      "Epoch 1/10\n",
      "157/157 [==============================] - 31s 191ms/step - loss: 0.6376 - accuracy: 0.6181 - val_loss: 0.5827 - val_accuracy: 0.6916\n",
      "Epoch 2/10\n",
      "157/157 [==============================] - 30s 189ms/step - loss: 0.4139 - accuracy: 0.8235 - val_loss: 0.4975 - val_accuracy: 0.7568\n",
      "Epoch 3/10\n",
      "157/157 [==============================] - 30s 189ms/step - loss: 0.3180 - accuracy: 0.8710 - val_loss: 0.3326 - val_accuracy: 0.8598\n",
      "Epoch 4/10\n",
      "157/157 [==============================] - 29s 188ms/step - loss: 0.2537 - accuracy: 0.9000 - val_loss: 0.3511 - val_accuracy: 0.8566\n",
      "Epoch 5/10\n",
      "157/157 [==============================] - 30s 189ms/step - loss: 0.2002 - accuracy: 0.9258 - val_loss: 0.3814 - val_accuracy: 0.8638\n",
      "Epoch 6/10\n",
      "157/157 [==============================] - 30s 191ms/step - loss: 0.1526 - accuracy: 0.9435 - val_loss: 0.4156 - val_accuracy: 0.8578\n",
      "Epoch 7/10\n",
      "157/157 [==============================] - 30s 190ms/step - loss: 0.1348 - accuracy: 0.9546 - val_loss: 0.4256 - val_accuracy: 0.8628\n",
      "Epoch 8/10\n",
      "157/157 [==============================] - 30s 189ms/step - loss: 0.0814 - accuracy: 0.9740 - val_loss: 0.5696 - val_accuracy: 0.8412\n",
      "Epoch 9/10\n",
      "157/157 [==============================] - 30s 188ms/step - loss: 0.0574 - accuracy: 0.9813 - val_loss: 0.5104 - val_accuracy: 0.8580\n",
      "Epoch 10/10\n",
      "157/157 [==============================] - 30s 189ms/step - loss: 0.0521 - accuracy: 0.9834 - val_loss: 0.5419 - val_accuracy: 0.8462\n"
     ]
    }
   ],
   "source": [
    "from keras.layers import Dense\n",
    "\n",
    "model = Sequential()\n",
    "model.add(Embedding(10000,32))  # Legth 10000, 32 dim - One Hot Encoding\n",
    "model.add(SimpleRNN(32))\n",
    "model.add(Dense(1,activation='sigmoid'))\n",
    "\n",
    "model.compile(optimizer='rmsprop',loss='binary_crossentropy',metrics=['accuracy'])\n",
    "\n",
    "history = model.fit(input_train,y_train,epochs=10,batch_size=128,validation_split=0.2)\n"
   ]
  },
  {
   "cell_type": "code",
   "execution_count": 17,
   "id": "1ace010c",
   "metadata": {
    "execution": {
     "iopub.execute_input": "2023-07-25T08:06:47.958487Z",
     "iopub.status.busy": "2023-07-25T08:06:47.957786Z",
     "iopub.status.idle": "2023-07-25T08:06:48.289570Z",
     "shell.execute_reply": "2023-07-25T08:06:48.288053Z"
    },
    "papermill": {
     "duration": 0.49185,
     "end_time": "2023-07-25T08:06:48.292350",
     "exception": false,
     "start_time": "2023-07-25T08:06:47.800500",
     "status": "completed"
    },
    "tags": []
   },
   "outputs": [
    {
     "data": {
      "text/plain": [
       "[<matplotlib.lines.Line2D at 0x796314df70a0>]"
      ]
     },
     "execution_count": 17,
     "metadata": {},
     "output_type": "execute_result"
    },
    {
     "data": {
      "image/png": "[encoded data removed]",
      "text/plain": [
       "<Figure size 640x480 with 1 Axes>"
      ]
     },
     "metadata": {},
     "output_type": "display_data"
    }
   ],
   "source": [
    "import matplotlib.pyplot as plt\n",
    "\n",
    "plt.plot(history.history['accuracy'])\n",
    "plt.plot(history.history['val_accuracy'])\n"
   ]
  },
  {
   "cell_type": "markdown",
   "id": "dd258787",
   "metadata": {
    "papermill": {
     "duration": 0.159666,
     "end_time": "2023-07-25T08:06:48.614383",
     "exception": false,
     "start_time": "2023-07-25T08:06:48.454717",
     "status": "completed"
    },
    "tags": []
   },
   "source": [
    "Val accuraccy not good.\n",
    "\n",
    "Not good for long sequences"
   ]
  },
  {
   "cell_type": "markdown",
   "id": "524a081b",
   "metadata": {
    "papermill": {
     "duration": 0.159363,
     "end_time": "2023-07-25T08:06:48.937626",
     "exception": false,
     "start_time": "2023-07-25T08:06:48.778263",
     "status": "completed"
    },
    "tags": []
   },
   "source": [
    "**Implementing the Same in LSTM**"
   ]
  },
  {
   "cell_type": "code",
   "execution_count": 18,
   "id": "b6c6593f",
   "metadata": {
    "execution": {
     "iopub.execute_input": "2023-07-25T08:06:49.262359Z",
     "iopub.status.busy": "2023-07-25T08:06:49.261892Z",
     "iopub.status.idle": "2023-07-25T08:12:13.697162Z",
     "shell.execute_reply": "2023-07-25T08:12:13.695589Z"
    },
    "papermill": {
     "duration": 324.598735,
     "end_time": "2023-07-25T08:12:13.700393",
     "exception": false,
     "start_time": "2023-07-25T08:06:49.101658",
     "status": "completed"
    },
    "tags": []
   },
   "outputs": [
    {
     "name": "stdout",
     "output_type": "stream",
     "text": [
      "Epoch 1/5\n",
      "157/157 [==============================] - 58s 358ms/step - loss: 0.5774 - acc: 0.6888 - val_loss: 0.4150 - val_acc: 0.8262\n",
      "Epoch 2/5\n",
      "157/157 [==============================] - 55s 351ms/step - loss: 0.3496 - acc: 0.8569 - val_loss: 0.3139 - val_acc: 0.8724\n",
      "Epoch 3/5\n",
      "157/157 [==============================] - 55s 351ms/step - loss: 0.2699 - acc: 0.8975 - val_loss: 0.2925 - val_acc: 0.8778\n",
      "Epoch 4/5\n",
      "157/157 [==============================] - 56s 355ms/step - loss: 0.2298 - acc: 0.9153 - val_loss: 0.3167 - val_acc: 0.8670\n",
      "Epoch 5/5\n",
      "157/157 [==============================] - 56s 354ms/step - loss: 0.2023 - acc: 0.9248 - val_loss: 0.2909 - val_acc: 0.8816\n"
     ]
    }
   ],
   "source": [
    "from keras.layers import LSTM\n",
    "\n",
    "model = Sequential()\n",
    "model.add(Embedding(10000,32))  # Legth 10000, 32 dim - One Hot Encoding\n",
    "model.add(LSTM(32))\n",
    "model.add(Dense(1,activation='sigmoid'))\n",
    "\n",
    "model.compile(optimizer='rmsprop',\n",
    "              loss='binary_crossentropy',\n",
    "              metrics=['acc'])\n",
    "\n",
    "hist = model.fit(input_train,y_train,epochs=5,batch_size=128,validation_split=0.2)\n"
   ]
  },
  {
   "cell_type": "code",
   "execution_count": null,
   "id": "7296575b",
   "metadata": {
    "papermill": {
     "duration": 0.233577,
     "end_time": "2023-07-25T08:12:14.165784",
     "exception": false,
     "start_time": "2023-07-25T08:12:13.932207",
     "status": "completed"
    },
    "tags": []
   },
   "outputs": [],
   "source": []
  }
 ],
 "metadata": {
  "kernelspec": {
   "display_name": "Python 3",
   "language": "python",
   "name": "python3"
  },
  "language_info": {
   "codemirror_mode": {
    "name": "ipython",
    "version": 3
   },
   "file_extension": ".py",
   "mimetype": "text/x-python",
   "name": "python",
   "nbconvert_exporter": "python",
   "pygments_lexer": "ipython3",
   "version": "3.10.12"
  },
  "papermill": {
   "default_parameters": {},
   "duration": 662.34954,
   "end_time": "2023-07-25T08:12:17.909531",
   "environment_variables": {},
   "exception": null,
   "input_path": "__notebook__.ipynb",
   "output_path": "__notebook__.ipynb",
   "parameters": {},
   "start_time": "2023-07-25T08:01:15.559991",
   "version": "2.4.0"
  }
 },
 "nbformat": 4,
 "nbformat_minor": 5
}
